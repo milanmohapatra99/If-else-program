{
 "cells": [
  {
   "cell_type": "code",
   "execution_count": 6,
   "id": "06095d42",
   "metadata": {},
   "outputs": [
    {
     "name": "stdout",
     "output_type": "stream",
     "text": [
      "a is less than b\n",
      "a is definitely less than b\n",
      "Not Sure\n"
     ]
    }
   ],
   "source": [
    "#if clauses\n",
    "a=5\n",
    "b=8\n",
    "if(a<b):\n",
    "    print(\"a is less than b\")\n",
    "    print(\"a is definitely less than b\") \n",
    "print(\"Not Sure\")    \n",
    "    "
   ]
  },
  {
   "cell_type": "code",
   "execution_count": 9,
   "id": "46e983bd",
   "metadata": {},
   "outputs": [
    {
     "name": "stdout",
     "output_type": "stream",
     "text": [
      "x is less than y\n",
      "outside if block\n"
     ]
    }
   ],
   "source": [
    "#if-else clause\n",
    "x=8\n",
    "y=9\n",
    "if(x<y):\n",
    "    print(\"x is less than y\")\n",
    "else:\n",
    "    print(\"x is not less than y\")\n",
    "print(\"outside if block\")    "
   ]
  },
  {
   "cell_type": "code",
   "execution_count": 14,
   "id": "37a08954",
   "metadata": {},
   "outputs": [
    {
     "name": "stdout",
     "output_type": "stream",
     "text": [
      "e is equal to f\n"
     ]
    }
   ],
   "source": [
    "#elif clause\n",
    "e=9\n",
    "f=9\n",
    "if e < f:\n",
    "    print(\"e is less than f\")\n",
    "elif e==f:\n",
    "    print(\"e is equal to f\")\n",
    "else:\n",
    "    print(\"e is greater than f\")\n",
    "    \n",
    "    \n"
   ]
  },
  {
   "cell_type": "code",
   "execution_count": 17,
   "id": "2f598749",
   "metadata": {},
   "outputs": [
    {
     "name": "stdout",
     "output_type": "stream",
     "text": [
      "bmi: \n",
      "3.75\n",
      "jack\n",
      "is not overweight\n"
     ]
    }
   ],
   "source": [
    "#Creating bmi Calculator\n",
    "name =\"jack\"\n",
    "height_m = 4\n",
    "weight_kg = 60\n",
    "bmi = weight_kg / (height_m ** 2)\n",
    "print(\"bmi: \")\n",
    "print(bmi)\n",
    "if bmi < 25:\n",
    "    print(name)\n",
    "    print(\"is not overweight\")\n",
    "else:\n",
    "    print(name)\n",
    "    print(\"is overweight\")\n"
   ]
  },
  {
   "cell_type": "code",
   "execution_count": 18,
   "id": "e6f27c5e",
   "metadata": {},
   "outputs": [
    {
     "name": "stdout",
     "output_type": "stream",
     "text": [
      "s:- 65\n",
      "t:- 45\n",
      "s is greater than t\n"
     ]
    }
   ],
   "source": [
    "#run time input\n",
    "s = int(input(\"s:- \"))\n",
    "t = int(input(\"t:- \"))\n",
    "if s < t:\n",
    "    print('s is less than t')\n",
    "elif s > t:\n",
    "    print('s is greater than t')\n",
    "else:\n",
    "    print('s and t are equal')"
   ]
  },
  {
   "cell_type": "code",
   "execution_count": 23,
   "id": "736db21e",
   "metadata": {},
   "outputs": [
    {
     "name": "stdout",
     "output_type": "stream",
     "text": [
      "highest 84\n"
     ]
    }
   ],
   "source": [
    "highest = 0\n",
    "for value in [7, 31, 12, 2, 84, 15] :\n",
    "    if value > highest:\n",
    "        highest = value \n",
    "print('highest' , highest)        "
   ]
  },
  {
   "cell_type": "code",
   "execution_count": 34,
   "id": "b511d1bd",
   "metadata": {},
   "outputs": [
    {
     "name": "stdout",
     "output_type": "stream",
     "text": [
      "lowest 2\n"
     ]
    }
   ],
   "source": [
    "list = [9, 31, 12, 2, 84, 15]\n",
    "lowest = list[0]\n",
    "for value in list :\n",
    "    if value < lowest:\n",
    "        lowest = value \n",
    "print('lowest' , lowest)"
   ]
  },
  {
   "cell_type": "code",
   "execution_count": null,
   "id": "274840d2",
   "metadata": {},
   "outputs": [],
   "source": []
  }
 ],
 "metadata": {
  "kernelspec": {
   "display_name": "Python 3 (ipykernel)",
   "language": "python",
   "name": "python3"
  },
  "language_info": {
   "codemirror_mode": {
    "name": "ipython",
    "version": 3
   },
   "file_extension": ".py",
   "mimetype": "text/x-python",
   "name": "python",
   "nbconvert_exporter": "python",
   "pygments_lexer": "ipython3",
   "version": "3.9.7"
  }
 },
 "nbformat": 4,
 "nbformat_minor": 5
}
